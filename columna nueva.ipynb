{
 "cells": [
  {
   "cell_type": "code",
   "execution_count": 2,
   "metadata": {},
   "outputs": [],
   "source": [
    "# Tratamiento de datos\n",
    "# ==============================================================================\n",
    "import numpy as np\n",
    "import pandas as pd\n",
    "\n",
    "import re\n",
    "\n",
    "import sidetable\n",
    "import math"
   ]
  },
  {
   "cell_type": "code",
   "execution_count": 3,
   "metadata": {},
   "outputs": [
    {
     "data": {
      "text/html": [
       "<div>\n",
       "<style scoped>\n",
       "    .dataframe tbody tr th:only-of-type {\n",
       "        vertical-align: middle;\n",
       "    }\n",
       "\n",
       "    .dataframe tbody tr th {\n",
       "        vertical-align: top;\n",
       "    }\n",
       "\n",
       "    .dataframe thead th {\n",
       "        text-align: right;\n",
       "    }\n",
       "</style>\n",
       "<table border=\"1\" class=\"dataframe\">\n",
       "  <thead>\n",
       "    <tr style=\"text-align: right;\">\n",
       "      <th></th>\n",
       "      <th>Unnamed: 0</th>\n",
       "      <th>Series_Title</th>\n",
       "      <th>Released_Year</th>\n",
       "      <th>Certificate</th>\n",
       "      <th>Runtime</th>\n",
       "      <th>Genre</th>\n",
       "      <th>Genre_1</th>\n",
       "      <th>Genre_2</th>\n",
       "      <th>Genre_3</th>\n",
       "      <th>IMDB_Rating</th>\n",
       "      <th>Meta_score</th>\n",
       "      <th>Director</th>\n",
       "      <th>Protagonist_1</th>\n",
       "      <th>Protagonist_2</th>\n",
       "      <th>Supporting_actor_1</th>\n",
       "      <th>Supporting_actor_2</th>\n",
       "      <th>User_Ratings</th>\n",
       "      <th>Gross</th>\n",
       "      <th>Overview</th>\n",
       "      <th>Poster_Link</th>\n",
       "    </tr>\n",
       "  </thead>\n",
       "  <tbody>\n",
       "    <tr>\n",
       "      <th>0</th>\n",
       "      <td>0</td>\n",
       "      <td>The Shawshank Redemption</td>\n",
       "      <td>1994</td>\n",
       "      <td>A</td>\n",
       "      <td>142</td>\n",
       "      <td>Drama</td>\n",
       "      <td>Drama</td>\n",
       "      <td>NaN</td>\n",
       "      <td>NaN</td>\n",
       "      <td>93</td>\n",
       "      <td>80</td>\n",
       "      <td>Frank Darabont</td>\n",
       "      <td>Tim Robbins</td>\n",
       "      <td>Morgan Freeman</td>\n",
       "      <td>Bob Gunton</td>\n",
       "      <td>William Sadler</td>\n",
       "      <td>2343110</td>\n",
       "      <td>28,341,469</td>\n",
       "      <td>Two imprisoned men bond over a number of years...</td>\n",
       "      <td>https://m.media-amazon.com/images/M/MV5BMDFkYT...</td>\n",
       "    </tr>\n",
       "    <tr>\n",
       "      <th>1</th>\n",
       "      <td>1</td>\n",
       "      <td>The Godfather</td>\n",
       "      <td>1972</td>\n",
       "      <td>A</td>\n",
       "      <td>175</td>\n",
       "      <td>Crime, Drama</td>\n",
       "      <td>Crime</td>\n",
       "      <td>Drama</td>\n",
       "      <td>NaN</td>\n",
       "      <td>92</td>\n",
       "      <td>100</td>\n",
       "      <td>Francis Ford Coppola</td>\n",
       "      <td>Marlon Brando</td>\n",
       "      <td>Al Pacino</td>\n",
       "      <td>James Caan</td>\n",
       "      <td>Diane Keaton</td>\n",
       "      <td>1620367</td>\n",
       "      <td>134,966,411</td>\n",
       "      <td>An organized crime dynasty's aging patriarch t...</td>\n",
       "      <td>https://m.media-amazon.com/images/M/MV5BM2MyNj...</td>\n",
       "    </tr>\n",
       "    <tr>\n",
       "      <th>2</th>\n",
       "      <td>2</td>\n",
       "      <td>The Dark Knight</td>\n",
       "      <td>2008</td>\n",
       "      <td>UA</td>\n",
       "      <td>152</td>\n",
       "      <td>Action, Crime, Drama</td>\n",
       "      <td>Action</td>\n",
       "      <td>Crime</td>\n",
       "      <td>Drama</td>\n",
       "      <td>90</td>\n",
       "      <td>84</td>\n",
       "      <td>Christopher Nolan</td>\n",
       "      <td>Christian Bale</td>\n",
       "      <td>Heath Ledger</td>\n",
       "      <td>Aaron Eckhart</td>\n",
       "      <td>Michael Caine</td>\n",
       "      <td>2303232</td>\n",
       "      <td>534,858,444</td>\n",
       "      <td>When the menace known as the Joker wreaks havo...</td>\n",
       "      <td>https://m.media-amazon.com/images/M/MV5BMTMxNT...</td>\n",
       "    </tr>\n",
       "  </tbody>\n",
       "</table>\n",
       "</div>"
      ],
      "text/plain": [
       "   Unnamed: 0              Series_Title Released_Year Certificate  Runtime  \\\n",
       "0           0  The Shawshank Redemption          1994           A      142   \n",
       "1           1             The Godfather          1972           A      175   \n",
       "2           2           The Dark Knight          2008          UA      152   \n",
       "\n",
       "                  Genre Genre_1 Genre_2 Genre_3  IMDB_Rating  Meta_score  \\\n",
       "0                 Drama   Drama     NaN     NaN           93          80   \n",
       "1          Crime, Drama   Crime   Drama     NaN           92         100   \n",
       "2  Action, Crime, Drama  Action   Crime   Drama           90          84   \n",
       "\n",
       "               Director   Protagonist_1   Protagonist_2 Supporting_actor_1  \\\n",
       "0        Frank Darabont     Tim Robbins  Morgan Freeman         Bob Gunton   \n",
       "1  Francis Ford Coppola   Marlon Brando       Al Pacino         James Caan   \n",
       "2     Christopher Nolan  Christian Bale    Heath Ledger      Aaron Eckhart   \n",
       "\n",
       "  Supporting_actor_2  User_Ratings        Gross  \\\n",
       "0     William Sadler       2343110   28,341,469   \n",
       "1       Diane Keaton       1620367  134,966,411   \n",
       "2      Michael Caine       2303232  534,858,444   \n",
       "\n",
       "                                            Overview  \\\n",
       "0  Two imprisoned men bond over a number of years...   \n",
       "1  An organized crime dynasty's aging patriarch t...   \n",
       "2  When the menace known as the Joker wreaks havo...   \n",
       "\n",
       "                                         Poster_Link  \n",
       "0  https://m.media-amazon.com/images/M/MV5BMDFkYT...  \n",
       "1  https://m.media-amazon.com/images/M/MV5BM2MyNj...  \n",
       "2  https://m.media-amazon.com/images/M/MV5BMTMxNT...  "
      ]
     },
     "execution_count": 3,
     "metadata": {},
     "output_type": "execute_result"
    }
   ],
   "source": [
    "df_imbd = pd.read_csv(\"./Tableau_limpio.csv\")\n",
    "df_imbd.head(3)"
   ]
  },
  {
   "cell_type": "code",
   "execution_count": 4,
   "metadata": {},
   "outputs": [
    {
     "data": {
      "text/html": [
       "<div>\n",
       "<style scoped>\n",
       "    .dataframe tbody tr th:only-of-type {\n",
       "        vertical-align: middle;\n",
       "    }\n",
       "\n",
       "    .dataframe tbody tr th {\n",
       "        vertical-align: top;\n",
       "    }\n",
       "\n",
       "    .dataframe thead th {\n",
       "        text-align: right;\n",
       "    }\n",
       "</style>\n",
       "<table border=\"1\" class=\"dataframe\">\n",
       "  <thead>\n",
       "    <tr style=\"text-align: right;\">\n",
       "      <th></th>\n",
       "      <th>Director</th>\n",
       "    </tr>\n",
       "  </thead>\n",
       "  <tbody>\n",
       "    <tr>\n",
       "      <th>6</th>\n",
       "      <td>Quentin Tarantino</td>\n",
       "    </tr>\n",
       "    <tr>\n",
       "      <th>7</th>\n",
       "      <td>Steven Spielberg</td>\n",
       "    </tr>\n",
       "    <tr>\n",
       "      <th>40</th>\n",
       "      <td>James Cameron</td>\n",
       "    </tr>\n",
       "    <tr>\n",
       "      <th>68</th>\n",
       "      <td>Sam Mendes</td>\n",
       "    </tr>\n",
       "  </tbody>\n",
       "</table>\n",
       "</div>"
      ],
      "text/plain": [
       "             Director\n",
       "6   Quentin Tarantino\n",
       "7    Steven Spielberg\n",
       "40      James Cameron\n",
       "68         Sam Mendes"
      ]
     },
     "execution_count": 4,
     "metadata": {},
     "output_type": "execute_result"
    }
   ],
   "source": [
    "df_columna_foto= pd.DataFrame(df_imbd, columns=[\"Director\"])\n",
    "df_columna_foto = df_columna_foto[df_columna_foto[\"Director\"].isin([\"James Cameron\", \"Quentin Tarantino\", \"Steven Spielberg\", \"Sam Mendes\"])].drop_duplicates()\n",
    "df_columna_foto.head()"
   ]
  },
  {
   "cell_type": "code",
   "execution_count": 5,
   "metadata": {},
   "outputs": [],
   "source": [
    "uma= \"https://www.lasfuriasmagazine.com/wp-content/uploads/2022/02/Elle-Driver-la-montana-serpiente.jpg\"\n",
    "rex = \"https://i.blogs.es/64cac5/tyrannosaurys-03/1366_2000.jpeg\"\n",
    "avatar= \"https://static1.abc.es/media/play/2020/09/29/avatar-kE4H--620x349@abc.jpeg\"\n",
    "ab= \"https://as01.epimg.net/epik/imagenes/2020/10/24/portada/1603538314_170039_1603541150_noticia_normal_recorte1.jpg\""
   ]
  },
  {
   "cell_type": "code",
   "execution_count": 6,
   "metadata": {},
   "outputs": [],
   "source": [
    "df_columna_foto[\"Fotos\"]=(\"https://www.lasfuriasmagazine.com/wp-content/uploads/2022/02/Elle-Driver-la-montana-serpiente.jpg\",\n",
    "\"https://i.blogs.es/64cac5/tyrannosaurys-03/1366_2000.jpeg\",\n",
    "\"https://static1.abc.es/media/play/2020/09/29/avatar-kE4H--620x349@abc.jpeg\",\n",
    "\"https://as01.epimg.net/epik/imagenes/2020/10/24/portada/1603538314_170039_1603541150_noticia_normal_recorte1.jpg\")"
   ]
  },
  {
   "cell_type": "code",
   "execution_count": 7,
   "metadata": {},
   "outputs": [
    {
     "data": {
      "text/html": [
       "<div>\n",
       "<style scoped>\n",
       "    .dataframe tbody tr th:only-of-type {\n",
       "        vertical-align: middle;\n",
       "    }\n",
       "\n",
       "    .dataframe tbody tr th {\n",
       "        vertical-align: top;\n",
       "    }\n",
       "\n",
       "    .dataframe thead th {\n",
       "        text-align: right;\n",
       "    }\n",
       "</style>\n",
       "<table border=\"1\" class=\"dataframe\">\n",
       "  <thead>\n",
       "    <tr style=\"text-align: right;\">\n",
       "      <th></th>\n",
       "      <th>Director</th>\n",
       "      <th>Fotos</th>\n",
       "    </tr>\n",
       "  </thead>\n",
       "  <tbody>\n",
       "    <tr>\n",
       "      <th>6</th>\n",
       "      <td>Quentin Tarantino</td>\n",
       "      <td>https://www.lasfuriasmagazine.com/wp-content/u...</td>\n",
       "    </tr>\n",
       "    <tr>\n",
       "      <th>7</th>\n",
       "      <td>Steven Spielberg</td>\n",
       "      <td>https://i.blogs.es/64cac5/tyrannosaurys-03/136...</td>\n",
       "    </tr>\n",
       "    <tr>\n",
       "      <th>40</th>\n",
       "      <td>James Cameron</td>\n",
       "      <td>https://static1.abc.es/media/play/2020/09/29/a...</td>\n",
       "    </tr>\n",
       "    <tr>\n",
       "      <th>68</th>\n",
       "      <td>Sam Mendes</td>\n",
       "      <td>https://as01.epimg.net/epik/imagenes/2020/10/2...</td>\n",
       "    </tr>\n",
       "  </tbody>\n",
       "</table>\n",
       "</div>"
      ],
      "text/plain": [
       "             Director                                              Fotos\n",
       "6   Quentin Tarantino  https://www.lasfuriasmagazine.com/wp-content/u...\n",
       "7    Steven Spielberg  https://i.blogs.es/64cac5/tyrannosaurys-03/136...\n",
       "40      James Cameron  https://static1.abc.es/media/play/2020/09/29/a...\n",
       "68         Sam Mendes  https://as01.epimg.net/epik/imagenes/2020/10/2..."
      ]
     },
     "execution_count": 7,
     "metadata": {},
     "output_type": "execute_result"
    }
   ],
   "source": [
    "df_columna_foto.head()"
   ]
  },
  {
   "cell_type": "code",
   "execution_count": 8,
   "metadata": {},
   "outputs": [],
   "source": [
    "df_columna_foto.to_csv(\"Fotos_tableau.csv\")"
   ]
  },
  {
   "cell_type": "markdown",
   "metadata": {},
   "source": [
    "    De github"
   ]
  },
  {
   "cell_type": "code",
   "execution_count": 9,
   "metadata": {},
   "outputs": [],
   "source": [
    "uma= \"https://raw.githubusercontent.com/Adalab/DA-promo-A-module-3-pairprog-2-pair-2-Lidia-Laura/main/fotos_recursos/uma.png\"\n",
    "rex = \"https://raw.githubusercontent.com/Adalab/DA-promo-A-module-3-pairprog-2-pair-2-Lidia-Laura/main/fotos_recursos/rex.png\"\n",
    "avatar= \"https://raw.githubusercontent.com/Adalab/DA-promo-A-module-3-pairprog-2-pair-2-Lidia-Laura/main/fotos_recursos/avatar.png\"\n",
    "ab= \"https://raw.githubusercontent.com/Adalab/DA-promo-A-module-3-pairprog-2-pair-2-Lidia-Laura/main/fotos_recursos/aB.png\""
   ]
  },
  {
   "cell_type": "code",
   "execution_count": 10,
   "metadata": {},
   "outputs": [],
   "source": [
    "df_columna_foto[\"Fotos\"]=(\"https://raw.githubusercontent.com/Adalab/DA-promo-A-module-3-pairprog-2-pair-2-Lidia-Laura/main/fotos_recursos/uma.png\",\n",
    "\"https://raw.githubusercontent.com/Adalab/DA-promo-A-module-3-pairprog-2-pair-2-Lidia-Laura/main/fotos_recursos/rex.png\",\n",
    "\"https://raw.githubusercontent.com/Adalab/DA-promo-A-module-3-pairprog-2-pair-2-Lidia-Laura/main/fotos_recursos/avatar.png\",\n",
    "\"https://raw.githubusercontent.com/Adalab/DA-promo-A-module-3-pairprog-2-pair-2-Lidia-Laura/main/fotos_recursos/aB.png\")"
   ]
  },
  {
   "cell_type": "code",
   "execution_count": 11,
   "metadata": {},
   "outputs": [],
   "source": [
    "df_columna_foto.to_csv(\"Fotos_tableau_github.csv\")"
   ]
  }
 ],
 "metadata": {
  "interpreter": {
   "hash": "40d3a090f54c6569ab1632332b64b2c03c39dcf918b08424e98f38b5ae0af88f"
  },
  "kernelspec": {
   "display_name": "Python 3.9.7 ('base')",
   "language": "python",
   "name": "python3"
  },
  "language_info": {
   "codemirror_mode": {
    "name": "ipython",
    "version": 3
   },
   "file_extension": ".py",
   "mimetype": "text/x-python",
   "name": "python",
   "nbconvert_exporter": "python",
   "pygments_lexer": "ipython3",
   "version": "3.9.7"
  },
  "orig_nbformat": 4
 },
 "nbformat": 4,
 "nbformat_minor": 2
}
